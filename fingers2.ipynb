{
 "cells": [
  {
   "cell_type": "markdown",
   "metadata": {},
   "source": [
    "# Fingers 2\n",
    "Importo las librerías y seteo Spark"
   ]
  },
  {
   "cell_type": "code",
   "execution_count": 1,
   "metadata": {},
   "outputs": [],
   "source": [
    "from pyspark import SparkContext\n",
    "from pyspark.sql import SQLContext"
   ]
  },
  {
   "cell_type": "code",
   "execution_count": 2,
   "metadata": {},
   "outputs": [],
   "source": [
    "sc = SparkContext()\n",
    "sqlContext = SQLContext(sc)"
   ]
  },
  {
   "cell_type": "code",
   "execution_count": 3,
   "metadata": {},
   "outputs": [],
   "source": [
    "df = sqlContext.read.format(\"csv\").option(\"header\", \"true\").load(\"events.csv\", inferSchema=\"true\")\n",
    "rdd = df.rdd"
   ]
  },
  {
   "cell_type": "code",
   "execution_count": 4,
   "metadata": {},
   "outputs": [
    {
     "data": {
      "text/plain": [
       "[Row(timestamp=datetime.datetime(2018, 5, 31, 23, 38, 5), event='ad campaign hit', person='0004b0a2', url='/comprar/iphone/iphone-5s', sku=None, model=None, condition=None, storage=None, color=None, skus=None, search_term=None, staticpage=None, campaign_source='criteo', search_engine=None, channel=None, new_vs_returning=None, city=None, region=None, country=None, device_type=None, screen_resolution=None, operating_system_version=None, browser_version=None),\n",
       " Row(timestamp=datetime.datetime(2018, 5, 31, 23, 38, 5), event='visited site', person='0004b0a2', url=None, sku=None, model=None, condition=None, storage=None, color=None, skus=None, search_term=None, staticpage=None, campaign_source=None, search_engine=None, channel='Paid', new_vs_returning='New', city='Camaragibe', region='Pernambuco', country='Brazil', device_type='Smartphone', screen_resolution='360x640', operating_system_version='Android 6', browser_version='Chrome Mobile 39'),\n",
       " Row(timestamp=datetime.datetime(2018, 5, 31, 23, 38, 9), event='viewed product', person='0004b0a2', url=None, sku='2694.0', model='iPhone 5s', condition='Bom', storage='32GB', color='Cinza espacial', skus=None, search_term=None, staticpage=None, campaign_source=None, search_engine=None, channel=None, new_vs_returning=None, city=None, region=None, country=None, device_type=None, screen_resolution=None, operating_system_version=None, browser_version=None),\n",
       " Row(timestamp=datetime.datetime(2018, 5, 31, 23, 38, 40), event='checkout', person='0004b0a2', url=None, sku='2694.0', model='iPhone 5s', condition='Bom', storage='32GB', color='Cinza espacial', skus=None, search_term=None, staticpage=None, campaign_source=None, search_engine=None, channel=None, new_vs_returning=None, city=None, region=None, country=None, device_type=None, screen_resolution=None, operating_system_version=None, browser_version=None),\n",
       " Row(timestamp=datetime.datetime(2018, 5, 29, 13, 29, 25), event='viewed product', person='0006a21a', url=None, sku='15338.0', model='Samsung Galaxy S8', condition='Bom', storage='64GB', color='Dourado', skus=None, search_term=None, staticpage=None, campaign_source=None, search_engine=None, channel=None, new_vs_returning=None, city=None, region=None, country=None, device_type=None, screen_resolution=None, operating_system_version=None, browser_version=None)]"
      ]
     },
     "execution_count": 4,
     "metadata": {},
     "output_type": "execute_result"
    }
   ],
   "source": [
    "rdd.take(5)"
   ]
  },
  {
   "cell_type": "code",
   "execution_count": 5,
   "metadata": {
    "scrolled": true
   },
   "outputs": [
    {
     "data": {
      "text/plain": [
       "0.4739179198425233"
      ]
     },
     "execution_count": 5,
     "metadata": {},
     "output_type": "execute_result"
    }
   ],
   "source": [
    "so_distinto_de_none = rdd.filter(lambda x: (x[21] is not None)).cache()\n",
    "total = so_distinto_de_none.count()\n",
    "android = so_distinto_de_none.filter(lambda x: 'Android' in x[21]).count()\n",
    "float(android)/total"
   ]
  },
  {
   "cell_type": "markdown",
   "metadata": {},
   "source": [
    "## Evento predominante"
   ]
  },
  {
   "cell_type": "code",
   "execution_count": 9,
   "metadata": {},
   "outputs": [
    {
     "data": {
      "text/plain": [
       "('viewed product', 528931)"
      ]
     },
     "execution_count": 9,
     "metadata": {},
     "output_type": "execute_result"
    }
   ],
   "source": [
    "rdd.map(lambda x: (x[1], 1)).reduceByKey(lambda x, y: x+y).reduce(lambda x, y: x if x[1] > y[1] else y)"
   ]
  },
  {
   "cell_type": "markdown",
   "metadata": {},
   "source": [
    "## Top 5 de dispositivos más visitados dentro de la categoría Smartphones."
   ]
  },
  {
   "cell_type": "code",
   "execution_count": 14,
   "metadata": {},
   "outputs": [
    {
     "data": {
      "text/plain": [
       "[('iPhone 6', 47538),\n",
       " ('iPhone 5s', 42045),\n",
       " ('iPhone 6S', 36930),\n",
       " ('iPhone 7', 26330),\n",
       " ('Samsung Galaxy S7 Edge', 23062)]"
      ]
     },
     "execution_count": 14,
     "metadata": {},
     "output_type": "execute_result"
    }
   ],
   "source": [
    "rdd.filter(lambda x: x[1] == 'viewed product').map(lambda x: (x[5], 1)).reduceByKey(lambda x, y: x+y).takeOrdered(5, key=lambda x: -x[1])"
   ]
  },
  {
   "cell_type": "code",
   "execution_count": null,
   "metadata": {},
   "outputs": [],
   "source": []
  }
 ],
 "metadata": {
  "kernelspec": {
   "display_name": "Python 3",
   "language": "python",
   "name": "python3"
  },
  "language_info": {
   "codemirror_mode": {
    "name": "ipython",
    "version": 3
   },
   "file_extension": ".py",
   "mimetype": "text/x-python",
   "name": "python",
   "nbconvert_exporter": "python",
   "pygments_lexer": "ipython3",
   "version": "3.6.5"
  }
 },
 "nbformat": 4,
 "nbformat_minor": 2
}
