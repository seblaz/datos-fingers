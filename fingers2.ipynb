{
 "cells": [
  {
   "cell_type": "markdown",
   "metadata": {},
   "source": [
    "# Fingers 2\n",
    "Primero importo las librerías y "
   ]
  },
  {
   "cell_type": "code",
   "execution_count": 1,
   "metadata": {},
   "outputs": [],
   "source": [
    "import pyspark\n",
    "from pyspark import SparkContext"
   ]
  },
  {
   "cell_type": "code",
   "execution_count": 2,
   "metadata": {},
   "outputs": [],
   "source": [
    "sc = SparkContext()"
   ]
  },
  {
   "cell_type": "code",
   "execution_count": 3,
   "metadata": {},
   "outputs": [],
   "source": [
    "from pyspark.sql import SQLContext\n",
    "sqlContext = SQLContext(sc)"
   ]
  },
  {
   "cell_type": "code",
   "execution_count": 4,
   "metadata": {},
   "outputs": [],
   "source": [
    "df = sqlContext.read.format(\"csv\").option(\"header\", \"true\").load(\"events.csv\")"
   ]
  },
  {
   "cell_type": "code",
   "execution_count": 5,
   "metadata": {},
   "outputs": [],
   "source": [
    "rdd = df.rdd"
   ]
  },
  {
   "cell_type": "code",
   "execution_count": 8,
   "metadata": {},
   "outputs": [
    {
     "data": {
      "text/plain": [
       "[Row(timestamp='2018-05-31 23:38:05', event='ad campaign hit', person='0004b0a2', url='/comprar/iphone/iphone-5s', sku=None, model=None, condition=None, storage=None, color=None, skus=None, search_term=None, staticpage=None, campaign_source='criteo', search_engine=None, channel=None, new_vs_returning=None, city=None, region=None, country=None, device_type=None, screen_resolution=None, operating_system_version=None, browser_version=None),\n",
       " Row(timestamp='2018-05-31 23:38:05', event='visited site', person='0004b0a2', url=None, sku=None, model=None, condition=None, storage=None, color=None, skus=None, search_term=None, staticpage=None, campaign_source=None, search_engine=None, channel='Paid', new_vs_returning='New', city='Camaragibe', region='Pernambuco', country='Brazil', device_type='Smartphone', screen_resolution='360x640', operating_system_version='Android 6', browser_version='Chrome Mobile 39'),\n",
       " Row(timestamp='2018-05-31 23:38:09', event='viewed product', person='0004b0a2', url=None, sku='2694.0', model='iPhone 5s', condition='Bom', storage='32GB', color='Cinza espacial', skus=None, search_term=None, staticpage=None, campaign_source=None, search_engine=None, channel=None, new_vs_returning=None, city=None, region=None, country=None, device_type=None, screen_resolution=None, operating_system_version=None, browser_version=None),\n",
       " Row(timestamp='2018-05-31 23:38:40', event='checkout', person='0004b0a2', url=None, sku='2694.0', model='iPhone 5s', condition='Bom', storage='32GB', color='Cinza espacial', skus=None, search_term=None, staticpage=None, campaign_source=None, search_engine=None, channel=None, new_vs_returning=None, city=None, region=None, country=None, device_type=None, screen_resolution=None, operating_system_version=None, browser_version=None),\n",
       " Row(timestamp='2018-05-29 13:29:25', event='viewed product', person='0006a21a', url=None, sku='15338.0', model='Samsung Galaxy S8', condition='Bom', storage='64GB', color='Dourado', skus=None, search_term=None, staticpage=None, campaign_source=None, search_engine=None, channel=None, new_vs_returning=None, city=None, region=None, country=None, device_type=None, screen_resolution=None, operating_system_version=None, browser_version=None)]"
      ]
     },
     "execution_count": 8,
     "metadata": {},
     "output_type": "execute_result"
    }
   ],
   "source": [
    "rdd.take(5)"
   ]
  },
  {
   "cell_type": "code",
   "execution_count": 25,
   "metadata": {
    "scrolled": true
   },
   "outputs": [
    {
     "data": {
      "text/plain": [
       "0.4739179198425233"
      ]
     },
     "execution_count": 25,
     "metadata": {},
     "output_type": "execute_result"
    }
   ],
   "source": [
    "so_distinto_de_none = rdd.filter(lambda x: (x[21] is not None)).cache()\n",
    "total = so_distinto_de_none.count()\n",
    "android = so_distinto_de_none.filter(lambda x: 'Android' in x[21]).count()\n",
    "float(android)/total"
   ]
  },
  {
   "cell_type": "code",
   "execution_count": 16,
   "metadata": {},
   "outputs": [
    {
     "data": {
      "text/plain": [
       "True"
      ]
     },
     "execution_count": 16,
     "metadata": {},
     "output_type": "execute_result"
    }
   ],
   "source": [
    "# 'Android asda'.contains('Android')\n",
    "None is None"
   ]
  },
  {
   "cell_type": "code",
   "execution_count": null,
   "metadata": {},
   "outputs": [],
   "source": []
  }
 ],
 "metadata": {
  "kernelspec": {
   "display_name": "Python 3",
   "language": "python",
   "name": "python3"
  },
  "language_info": {
   "codemirror_mode": {
    "name": "ipython",
    "version": 3
   },
   "file_extension": ".py",
   "mimetype": "text/x-python",
   "name": "python",
   "nbconvert_exporter": "python",
   "pygments_lexer": "ipython3",
   "version": "3.6.5"
  }
 },
 "nbformat": 4,
 "nbformat_minor": 2
}
